{
 "cells": [
  {
   "cell_type": "code",
   "execution_count": 1,
   "metadata": {},
   "outputs": [],
   "source": [
    "import numpy as np\n",
    "import pandas as pd\n",
    "import impyute\n",
    "import warnings\n",
    "warnings.filterwarnings(\"ignore\")"
   ]
  },
  {
   "cell_type": "code",
   "execution_count": 2,
   "metadata": {},
   "outputs": [
    {
     "data": {
      "text/html": [
       "<div>\n",
       "<style scoped>\n",
       "    .dataframe tbody tr th:only-of-type {\n",
       "        vertical-align: middle;\n",
       "    }\n",
       "\n",
       "    .dataframe tbody tr th {\n",
       "        vertical-align: top;\n",
       "    }\n",
       "\n",
       "    .dataframe thead th {\n",
       "        text-align: right;\n",
       "    }\n",
       "</style>\n",
       "<table border=\"1\" class=\"dataframe\">\n",
       "  <thead>\n",
       "    <tr style=\"text-align: right;\">\n",
       "      <th></th>\n",
       "      <th>state</th>\n",
       "      <th>so2</th>\n",
       "      <th>no2</th>\n",
       "      <th>rspm</th>\n",
       "      <th>spm</th>\n",
       "    </tr>\n",
       "  </thead>\n",
       "  <tbody>\n",
       "    <tr>\n",
       "      <th>0</th>\n",
       "      <td>Delhi</td>\n",
       "      <td>8.6</td>\n",
       "      <td>16.2</td>\n",
       "      <td>NaN</td>\n",
       "      <td>323.0</td>\n",
       "    </tr>\n",
       "    <tr>\n",
       "      <th>1</th>\n",
       "      <td>Delhi</td>\n",
       "      <td>6.5</td>\n",
       "      <td>9.3</td>\n",
       "      <td>NaN</td>\n",
       "      <td>488.0</td>\n",
       "    </tr>\n",
       "    <tr>\n",
       "      <th>2</th>\n",
       "      <td>Delhi</td>\n",
       "      <td>25.8</td>\n",
       "      <td>10.4</td>\n",
       "      <td>NaN</td>\n",
       "      <td>487.0</td>\n",
       "    </tr>\n",
       "    <tr>\n",
       "      <th>3</th>\n",
       "      <td>Delhi</td>\n",
       "      <td>0.5</td>\n",
       "      <td>2.8</td>\n",
       "      <td>NaN</td>\n",
       "      <td>528.0</td>\n",
       "    </tr>\n",
       "    <tr>\n",
       "      <th>4</th>\n",
       "      <td>Delhi</td>\n",
       "      <td>2.5</td>\n",
       "      <td>12.8</td>\n",
       "      <td>NaN</td>\n",
       "      <td>506.0</td>\n",
       "    </tr>\n",
       "  </tbody>\n",
       "</table>\n",
       "</div>"
      ],
      "text/plain": [
       "   state   so2   no2  rspm    spm\n",
       "0  Delhi   8.6  16.2   NaN  323.0\n",
       "1  Delhi   6.5   9.3   NaN  488.0\n",
       "2  Delhi  25.8  10.4   NaN  487.0\n",
       "3  Delhi   0.5   2.8   NaN  528.0\n",
       "4  Delhi   2.5  12.8   NaN  506.0"
      ]
     },
     "execution_count": 2,
     "metadata": {},
     "output_type": "execute_result"
    }
   ],
   "source": [
    "df = pd.read_csv('Pollution_data.csv')\n",
    "states = ['Delhi', 'West Bengal', 'Haryana']\n",
    "df = df[df['state'].isin(states)]\n",
    "# df = df[df['state'] == 'Delhi' or df['state'] == 'Uttarakhand' or df['state'] ==]\n",
    "df.drop_duplicates(inplace=True)\n",
    "drop_col = list(df.columns)\n",
    "drop_col.remove('state')\n",
    "drop_col.remove('rspm')\n",
    "drop_col.remove('spm')\n",
    "drop_col.remove('so2')\n",
    "drop_col.remove('no2')\n",
    "\n",
    "df.drop(columns=drop_col, inplace=True)\n",
    "df.reset_index(drop=True, inplace=True)\n",
    "df.head()"
   ]
  },
  {
   "cell_type": "code",
   "execution_count": 3,
   "metadata": {},
   "outputs": [],
   "source": [
    "df.to_csv('original.csv')"
   ]
  },
  {
   "cell_type": "code",
   "execution_count": 4,
   "metadata": {},
   "outputs": [
    {
     "data": {
      "text/plain": [
       "(34417, 5)"
      ]
     },
     "execution_count": 4,
     "metadata": {},
     "output_type": "execute_result"
    }
   ],
   "source": [
    "df.shape"
   ]
  },
  {
   "cell_type": "code",
   "execution_count": 5,
   "metadata": {},
   "outputs": [
    {
     "data": {
      "text/plain": [
       "(15328, 5)"
      ]
     },
     "execution_count": 5,
     "metadata": {},
     "output_type": "execute_result"
    }
   ],
   "source": [
    "test = df.dropna(axis=0, how='any')\n",
    "test.reset_index(drop=True, inplace=True)\n",
    "test.shape"
   ]
  },
  {
   "cell_type": "code",
   "execution_count": 6,
   "metadata": {},
   "outputs": [],
   "source": [
    "def AQI_cal(test):  \n",
    "    def cal_SOi(so2):\n",
    "        si=0\n",
    "        if (so2<=40):\n",
    "         si= so2*(50/40)\n",
    "        elif (so2>40 and so2<=80):\n",
    "         si= 50+(so2-40)*(50/40)\n",
    "        elif (so2>80 and so2<=380):\n",
    "         si= 100+(so2-80)*(100/300)\n",
    "        elif (so2>380 and so2<=800):\n",
    "         si= 200+(so2-380)*(100/420)\n",
    "        elif (so2>800 and so2<=1600):\n",
    "         si= 300+(so2-800)*(100/800)\n",
    "        elif (so2>1600):\n",
    "         si= 400+(so2-1600)*(100/800)\n",
    "        return si\n",
    "    test['SOi']=test['so2'].apply(cal_SOi)\n",
    "\n",
    "    def cal_Noi(no2):\n",
    "        ni=0\n",
    "        if(no2<=40):\n",
    "         ni= no2*50/40\n",
    "        elif(no2>40 and no2<=80):\n",
    "         ni= 50+(no2-40)*(50/40)\n",
    "        elif(no2>80 and no2<=180):\n",
    "         ni= 100+(no2-80)*(100/100)\n",
    "        elif(no2>180 and no2<=280):\n",
    "         ni= 200+(no2-180)*(100/100)\n",
    "        elif(no2>280 and no2<=400):\n",
    "         ni= 300+(no2-280)*(100/120)\n",
    "        else:\n",
    "         ni= 400+(no2-400)*(100/120)\n",
    "        return ni\n",
    "    test['NOi']=test['no2'].apply(cal_Noi)\n",
    "\n",
    "    def cal_RSPMi(rspm):\n",
    "        rpi=0\n",
    "        if(rspm<=100):\n",
    "         rpi = rspm\n",
    "        elif(rspm>=101 and rspm<=150):\n",
    "         rpi= 101+(rspm-101)*((200-101)/(150-101))\n",
    "        elif(rspm>=151 and rspm<=350):\n",
    "         rpi= 201+(rspm-151)*((300-201)/(350-151))\n",
    "        elif(rspm>=351 and rspm<=420):\n",
    "         rpi= 301+(rspm-351)*((400-301)/(420-351))\n",
    "        elif(rspm>420):\n",
    "         rpi= 401+(rspm-420)*((500-401)/(420-351))\n",
    "        return rpi\n",
    "    test['RSPMi']=test['rspm'].apply(cal_RSPMi)\n",
    "\n",
    "    def cal_SPMi(spm):\n",
    "        spi=0\n",
    "        if(spm<=50):\n",
    "         spi=spm*50/50\n",
    "        elif(spm>50 and spm<=100):\n",
    "         spi=50+(spm-50)*(50/50)\n",
    "        elif(spm>100 and spm<=250):\n",
    "         spi= 100+(spm-100)*(100/150)\n",
    "        elif(spm>250 and spm<=350):\n",
    "         spi=200+(spm-250)*(100/100)\n",
    "        elif(spm>350 and spm<=430):\n",
    "         spi=300+(spm-350)*(100/80)\n",
    "        else:\n",
    "         spi=400+(spm-430)*(100/430)\n",
    "        return spi\n",
    "    test['SPMi']=test['spm'].apply(cal_SPMi)\n",
    "\n",
    "    def cal_aqi(si,ni,rspmi,spmi):\n",
    "        aqi=0\n",
    "        if(si>ni and si>rspmi and si>spmi):\n",
    "         aqi=si\n",
    "        if(ni>si and ni>rspmi and ni>spmi ):\n",
    "         aqi=ni\n",
    "        if(rspmi>si and rspmi>ni and rspmi>spmi ):\n",
    "         aqi=rspmi\n",
    "        if(spmi>si and spmi>ni and spmi>rspmi):\n",
    "         aqi=spmi\n",
    "        return aqi\n",
    "    test['AQI']=test.apply(lambda x:cal_aqi(x['SOi'],x['NOi'],x['RSPMi'],x['SPMi']),axis=1)\n",
    "    def AQI_Range(x):\n",
    "        if x<=50:\n",
    "            return \"Good\"\n",
    "        elif x>50 and x<=100:\n",
    "            return \"Moderate\"\n",
    "        elif x>100 and x<=200:\n",
    "            return \"Poor\"\n",
    "        elif x>200 and x<=300:\n",
    "            return \"Unhealthy\"\n",
    "        elif x>300 and x<=400:\n",
    "            return \"Very unhealthy\"\n",
    "        elif x>400:\n",
    "            return \"Hazardous\"\n",
    "\n",
    "    test['AQI_Range'] = test['AQI'] .apply(AQI_Range)\n",
    "    test.head()\n",
    "AQI_cal(test)"
   ]
  },
  {
   "cell_type": "code",
   "execution_count": 7,
   "metadata": {},
   "outputs": [],
   "source": [
    "test.to_csv('withoutNull.csv')"
   ]
  },
  {
   "cell_type": "code",
   "execution_count": 8,
   "metadata": {},
   "outputs": [],
   "source": [
    "#fitting\n",
    "Withoutnull = pd.read_csv(\"withoutNull.csv\")\n",
    "AQI_cal(Withoutnull)\n",
    "from sklearn.neighbors import KNeighborsClassifier as knn\n",
    "Delhi_cl=knn(n_neighbors=5)\n",
    "WB_cl=knn(n_neighbors=5)\n",
    "Haryana_cl=knn(n_neighbors=5)\n",
    "\n",
    "Delhi_wn = Withoutnull[Withoutnull.state==\"Delhi\"]\n",
    "Haryana_wn = Withoutnull[Withoutnull.state==\"Haryana\"]\n",
    "WB_wn = Withoutnull[Withoutnull.state==\"West Bengal\"]"
   ]
  },
  {
   "cell_type": "code",
   "execution_count": 9,
   "metadata": {},
   "outputs": [
    {
     "data": {
      "text/plain": [
       "KNeighborsClassifier(algorithm='auto', leaf_size=30, metric='minkowski',\n",
       "                     metric_params=None, n_jobs=None, n_neighbors=5, p=2,\n",
       "                     weights='uniform')"
      ]
     },
     "execution_count": 9,
     "metadata": {},
     "output_type": "execute_result"
    }
   ],
   "source": [
    "Delhi_cl.fit(Delhi_wn[['so2','no2','rspm','spm']],Delhi_wn[\"AQI_Range\"])\n",
    "Haryana_cl.fit(Haryana_wn[['so2','no2','rspm','spm']],Haryana_wn[\"AQI_Range\"])\n",
    "WB_cl.fit(WB_wn[['so2','no2','rspm','spm']],WB_wn[\"AQI_Range\"])"
   ]
  },
  {
   "cell_type": "code",
   "execution_count": null,
   "metadata": {},
   "outputs": [],
   "source": []
  },
  {
   "cell_type": "code",
   "execution_count": null,
   "metadata": {},
   "outputs": [],
   "source": []
  },
  {
   "cell_type": "code",
   "execution_count": 20,
   "metadata": {},
   "outputs": [
    {
     "name": "stdout",
     "output_type": "stream",
     "text": [
      "Imputing row 1/3415 with 2 missing, elapsed time: 2.203\n",
      "Imputing row 101/3415 with 2 missing, elapsed time: 2.211\n",
      "Imputing row 201/3415 with 1 missing, elapsed time: 2.219\n",
      "Imputing row 301/3415 with 1 missing, elapsed time: 2.227\n",
      "Imputing row 401/3415 with 0 missing, elapsed time: 2.231\n",
      "Imputing row 501/3415 with 0 missing, elapsed time: 2.231\n",
      "Imputing row 601/3415 with 0 missing, elapsed time: 2.231\n",
      "Imputing row 701/3415 with 0 missing, elapsed time: 2.235\n",
      "Imputing row 801/3415 with 0 missing, elapsed time: 2.235\n",
      "Imputing row 901/3415 with 2 missing, elapsed time: 2.239\n",
      "Imputing row 1001/3415 with 2 missing, elapsed time: 2.247\n",
      "Imputing row 1101/3415 with 0 missing, elapsed time: 2.251\n",
      "Imputing row 1201/3415 with 0 missing, elapsed time: 2.255\n",
      "Imputing row 1301/3415 with 0 missing, elapsed time: 2.255\n",
      "Imputing row 1401/3415 with 0 missing, elapsed time: 2.259\n",
      "Imputing row 1501/3415 with 0 missing, elapsed time: 2.263\n",
      "Imputing row 1601/3415 with 4 missing, elapsed time: 2.263\n",
      "Imputing row 1701/3415 with 0 missing, elapsed time: 2.267\n",
      "Imputing row 1801/3415 with 0 missing, elapsed time: 2.267\n",
      "Imputing row 1901/3415 with 1 missing, elapsed time: 2.271\n",
      "Imputing row 2001/3415 with 1 missing, elapsed time: 2.275\n",
      "Imputing row 2101/3415 with 1 missing, elapsed time: 2.283\n",
      "Imputing row 2201/3415 with 1 missing, elapsed time: 2.291\n",
      "Imputing row 2301/3415 with 1 missing, elapsed time: 2.291\n",
      "Imputing row 2401/3415 with 1 missing, elapsed time: 2.299\n",
      "Imputing row 2501/3415 with 1 missing, elapsed time: 2.307\n",
      "Imputing row 2601/3415 with 1 missing, elapsed time: 2.311\n",
      "Imputing row 2701/3415 with 1 missing, elapsed time: 2.319\n",
      "Imputing row 2801/3415 with 1 missing, elapsed time: 2.323\n",
      "Imputing row 2901/3415 with 1 missing, elapsed time: 2.331\n",
      "Imputing row 3001/3415 with 1 missing, elapsed time: 2.339\n",
      "Imputing row 3101/3415 with 1 missing, elapsed time: 2.343\n",
      "Imputing row 3201/3415 with 1 missing, elapsed time: 2.351\n",
      "Imputing row 3301/3415 with 1 missing, elapsed time: 2.355\n",
      "Imputing row 3401/3415 with 2 missing, elapsed time: 2.363\n",
      "[KNN] Warning: 356/13660 still missing after imputation, replacing with 0\n"
     ]
    },
    {
     "data": {
      "text/html": [
       "<div>\n",
       "<style scoped>\n",
       "    .dataframe tbody tr th:only-of-type {\n",
       "        vertical-align: middle;\n",
       "    }\n",
       "\n",
       "    .dataframe tbody tr th {\n",
       "        vertical-align: top;\n",
       "    }\n",
       "\n",
       "    .dataframe thead th {\n",
       "        text-align: right;\n",
       "    }\n",
       "</style>\n",
       "<table border=\"1\" class=\"dataframe\">\n",
       "  <thead>\n",
       "    <tr style=\"text-align: right;\">\n",
       "      <th></th>\n",
       "      <th>so2</th>\n",
       "      <th>no2</th>\n",
       "      <th>rspm</th>\n",
       "      <th>spm</th>\n",
       "    </tr>\n",
       "  </thead>\n",
       "  <tbody>\n",
       "    <tr>\n",
       "      <th>0</th>\n",
       "      <td>43.2</td>\n",
       "      <td>24.100000</td>\n",
       "      <td>73.356759</td>\n",
       "      <td>330.966334</td>\n",
       "    </tr>\n",
       "    <tr>\n",
       "      <th>1</th>\n",
       "      <td>41.8</td>\n",
       "      <td>24.000000</td>\n",
       "      <td>78.357400</td>\n",
       "      <td>362.720456</td>\n",
       "    </tr>\n",
       "    <tr>\n",
       "      <th>2</th>\n",
       "      <td>45.7</td>\n",
       "      <td>24.400000</td>\n",
       "      <td>84.000045</td>\n",
       "      <td>228.000000</td>\n",
       "    </tr>\n",
       "    <tr>\n",
       "      <th>3</th>\n",
       "      <td>42.8</td>\n",
       "      <td>22.000000</td>\n",
       "      <td>78.648075</td>\n",
       "      <td>364.839576</td>\n",
       "    </tr>\n",
       "    <tr>\n",
       "      <th>4</th>\n",
       "      <td>46.8</td>\n",
       "      <td>32.535293</td>\n",
       "      <td>262.309674</td>\n",
       "      <td>279.876996</td>\n",
       "    </tr>\n",
       "  </tbody>\n",
       "</table>\n",
       "</div>"
      ],
      "text/plain": [
       "    so2        no2        rspm         spm\n",
       "0  43.2  24.100000   73.356759  330.966334\n",
       "1  41.8  24.000000   78.357400  362.720456\n",
       "2  45.7  24.400000   84.000045  228.000000\n",
       "3  42.8  22.000000   78.648075  364.839576\n",
       "4  46.8  32.535293  262.309674  279.876996"
      ]
     },
     "execution_count": 20,
     "metadata": {},
     "output_type": "execute_result"
    }
   ],
   "source": [
    "#KNN Imputation\n",
    "from fancyimpute import KNN\n",
    "ds = df[df['state']==states[2]]\n",
    "# ds.head()\n",
    "ds.drop(columns=['state'], inplace=True)\n",
    "# ds.isnull().sum()\n",
    "knn_imputer = KNN()\n",
    "knn_res = knn_imputer.fit_transform(ds)\n",
    "knn_res = pd.DataFrame(knn_res)\n",
    "knn_res.columns = ds.columns\n",
    "knn_res.head()"
   ]
  },
  {
   "cell_type": "code",
   "execution_count": 21,
   "metadata": {},
   "outputs": [],
   "source": [
    "AQI_cal(knn_res)"
   ]
  },
  {
   "cell_type": "code",
   "execution_count": 22,
   "metadata": {},
   "outputs": [],
   "source": [
    "knn_res.to_csv(states[2] + '_knn.csv')"
   ]
  },
  {
   "cell_type": "code",
   "execution_count": null,
   "metadata": {},
   "outputs": [],
   "source": []
  },
  {
   "cell_type": "code",
   "execution_count": 29,
   "metadata": {},
   "outputs": [
    {
     "data": {
      "text/html": [
       "<div>\n",
       "<style scoped>\n",
       "    .dataframe tbody tr th:only-of-type {\n",
       "        vertical-align: middle;\n",
       "    }\n",
       "\n",
       "    .dataframe tbody tr th {\n",
       "        vertical-align: top;\n",
       "    }\n",
       "\n",
       "    .dataframe thead th {\n",
       "        text-align: right;\n",
       "    }\n",
       "</style>\n",
       "<table border=\"1\" class=\"dataframe\">\n",
       "  <thead>\n",
       "    <tr style=\"text-align: right;\">\n",
       "      <th></th>\n",
       "      <th>so2</th>\n",
       "      <th>no2</th>\n",
       "      <th>rspm</th>\n",
       "      <th>spm</th>\n",
       "    </tr>\n",
       "  </thead>\n",
       "  <tbody>\n",
       "    <tr>\n",
       "      <th>0</th>\n",
       "      <td>43.2</td>\n",
       "      <td>24.100000</td>\n",
       "      <td>253.928668</td>\n",
       "      <td>349.712243</td>\n",
       "    </tr>\n",
       "    <tr>\n",
       "      <th>1</th>\n",
       "      <td>41.8</td>\n",
       "      <td>24.000000</td>\n",
       "      <td>249.362485</td>\n",
       "      <td>346.631985</td>\n",
       "    </tr>\n",
       "    <tr>\n",
       "      <th>2</th>\n",
       "      <td>45.7</td>\n",
       "      <td>24.400000</td>\n",
       "      <td>175.828143</td>\n",
       "      <td>228.000000</td>\n",
       "    </tr>\n",
       "    <tr>\n",
       "      <th>3</th>\n",
       "      <td>42.8</td>\n",
       "      <td>22.000000</td>\n",
       "      <td>251.540430</td>\n",
       "      <td>338.616946</td>\n",
       "    </tr>\n",
       "    <tr>\n",
       "      <th>4</th>\n",
       "      <td>46.8</td>\n",
       "      <td>39.717027</td>\n",
       "      <td>273.115362</td>\n",
       "      <td>432.709708</td>\n",
       "    </tr>\n",
       "  </tbody>\n",
       "</table>\n",
       "</div>"
      ],
      "text/plain": [
       "    so2        no2        rspm         spm\n",
       "0  43.2  24.100000  253.928668  349.712243\n",
       "1  41.8  24.000000  249.362485  346.631985\n",
       "2  45.7  24.400000  175.828143  228.000000\n",
       "3  42.8  22.000000  251.540430  338.616946\n",
       "4  46.8  39.717027  273.115362  432.709708"
      ]
     },
     "execution_count": 29,
     "metadata": {},
     "output_type": "execute_result"
    }
   ],
   "source": [
    "from sklearn.experimental import enable_iterative_imputer\n",
    "from sklearn.impute import IterativeImputer\n",
    "\n",
    "ind = 2\n",
    "\n",
    "ds = df[df['state']==states[ind]]\n",
    "# ds.head()\n",
    "ds.drop(columns=['state'], inplace=True)\n",
    "# ds.isnull().sum()\n",
    "\n",
    "MICE_imputer = IterativeImputer()\n",
    "MICE_res = MICE_imputer.fit_transform(ds)\n",
    "MICE_res = pd.DataFrame(MICE_res)\n",
    "MICE_res.columns=ds.columns\n",
    "MICE_res.head()"
   ]
  },
  {
   "cell_type": "code",
   "execution_count": 30,
   "metadata": {},
   "outputs": [],
   "source": [
    "MICE_res.isnull().sum()\n",
    "AQI_cal(MICE_res)"
   ]
  },
  {
   "cell_type": "code",
   "execution_count": 31,
   "metadata": {},
   "outputs": [],
   "source": [
    "MICE_res.to_csv(states[ind] + '_MICE.csv')"
   ]
  },
  {
   "cell_type": "code",
   "execution_count": 48,
   "metadata": {},
   "outputs": [
    {
     "data": {
      "text/html": [
       "<div>\n",
       "<style scoped>\n",
       "    .dataframe tbody tr th:only-of-type {\n",
       "        vertical-align: middle;\n",
       "    }\n",
       "\n",
       "    .dataframe tbody tr th {\n",
       "        vertical-align: top;\n",
       "    }\n",
       "\n",
       "    .dataframe thead th {\n",
       "        text-align: right;\n",
       "    }\n",
       "</style>\n",
       "<table border=\"1\" class=\"dataframe\">\n",
       "  <thead>\n",
       "    <tr style=\"text-align: right;\">\n",
       "      <th></th>\n",
       "      <th>so2</th>\n",
       "      <th>no2</th>\n",
       "      <th>rspm</th>\n",
       "      <th>spm</th>\n",
       "    </tr>\n",
       "  </thead>\n",
       "  <tbody>\n",
       "    <tr>\n",
       "      <th>0</th>\n",
       "      <td>8.6</td>\n",
       "      <td>16.2</td>\n",
       "      <td>196.639771</td>\n",
       "      <td>323.0</td>\n",
       "    </tr>\n",
       "    <tr>\n",
       "      <th>1</th>\n",
       "      <td>6.5</td>\n",
       "      <td>9.3</td>\n",
       "      <td>196.639771</td>\n",
       "      <td>488.0</td>\n",
       "    </tr>\n",
       "    <tr>\n",
       "      <th>2</th>\n",
       "      <td>25.8</td>\n",
       "      <td>10.4</td>\n",
       "      <td>196.639771</td>\n",
       "      <td>487.0</td>\n",
       "    </tr>\n",
       "    <tr>\n",
       "      <th>3</th>\n",
       "      <td>0.5</td>\n",
       "      <td>2.8</td>\n",
       "      <td>196.639771</td>\n",
       "      <td>528.0</td>\n",
       "    </tr>\n",
       "    <tr>\n",
       "      <th>4</th>\n",
       "      <td>2.5</td>\n",
       "      <td>12.8</td>\n",
       "      <td>196.639771</td>\n",
       "      <td>506.0</td>\n",
       "    </tr>\n",
       "  </tbody>\n",
       "</table>\n",
       "</div>"
      ],
      "text/plain": [
       "    so2   no2        rspm    spm\n",
       "0   8.6  16.2  196.639771  323.0\n",
       "1   6.5   9.3  196.639771  488.0\n",
       "2  25.8  10.4  196.639771  487.0\n",
       "3   0.5   2.8  196.639771  528.0\n",
       "4   2.5  12.8  196.639771  506.0"
      ]
     },
     "execution_count": 48,
     "metadata": {},
     "output_type": "execute_result"
    }
   ],
   "source": [
    "#KNN Imputation\n",
    "from fancyimpute import SimpleFill\n",
    "\n",
    "ind = 0\n",
    "ds = df[df['state']==states[ind]]\n",
    "# ds.head()\n",
    "ds.drop(columns=['state'], inplace=True)\n",
    "# ds.isnull().sum()\n",
    "\n",
    "mean_res = SimpleFill('mean')\n",
    "mean_res = mean_res.fit_transform(ds)\n",
    "mean_res = pd.DataFrame(mean_res)\n",
    "mean_res.columns=ds.columns\n",
    "mean_res.head()"
   ]
  },
  {
   "cell_type": "code",
   "execution_count": 49,
   "metadata": {},
   "outputs": [],
   "source": [
    "AQI_cal(mean_res)"
   ]
  },
  {
   "cell_type": "code",
   "execution_count": 50,
   "metadata": {},
   "outputs": [],
   "source": [
    "mean_res.to_csv(states[ind] + '_mean.csv')"
   ]
  },
  {
   "cell_type": "code",
   "execution_count": null,
   "metadata": {},
   "outputs": [],
   "source": []
  },
  {
   "cell_type": "code",
   "execution_count": 58,
   "metadata": {},
   "outputs": [
    {
     "name": "stdout",
     "output_type": "stream",
     "text": [
      "Iteration: 0\n",
      "Iteration: 1\n",
      "Iteration: 2\n",
      "Iteration: 3\n",
      "Iteration: 4\n"
     ]
    },
    {
     "data": {
      "text/html": [
       "<div>\n",
       "<style scoped>\n",
       "    .dataframe tbody tr th:only-of-type {\n",
       "        vertical-align: middle;\n",
       "    }\n",
       "\n",
       "    .dataframe tbody tr th {\n",
       "        vertical-align: top;\n",
       "    }\n",
       "\n",
       "    .dataframe thead th {\n",
       "        text-align: right;\n",
       "    }\n",
       "</style>\n",
       "<table border=\"1\" class=\"dataframe\">\n",
       "  <thead>\n",
       "    <tr style=\"text-align: right;\">\n",
       "      <th></th>\n",
       "      <th>so2</th>\n",
       "      <th>no2</th>\n",
       "      <th>rspm</th>\n",
       "      <th>spm</th>\n",
       "    </tr>\n",
       "  </thead>\n",
       "  <tbody>\n",
       "    <tr>\n",
       "      <th>0</th>\n",
       "      <td>8.6</td>\n",
       "      <td>16.2</td>\n",
       "      <td>116.32</td>\n",
       "      <td>323.0</td>\n",
       "    </tr>\n",
       "    <tr>\n",
       "      <th>1</th>\n",
       "      <td>6.5</td>\n",
       "      <td>9.3</td>\n",
       "      <td>220.54</td>\n",
       "      <td>488.0</td>\n",
       "    </tr>\n",
       "    <tr>\n",
       "      <th>2</th>\n",
       "      <td>25.8</td>\n",
       "      <td>10.4</td>\n",
       "      <td>248.19</td>\n",
       "      <td>487.0</td>\n",
       "    </tr>\n",
       "    <tr>\n",
       "      <th>3</th>\n",
       "      <td>0.5</td>\n",
       "      <td>2.8</td>\n",
       "      <td>189.01</td>\n",
       "      <td>528.0</td>\n",
       "    </tr>\n",
       "    <tr>\n",
       "      <th>4</th>\n",
       "      <td>2.5</td>\n",
       "      <td>12.8</td>\n",
       "      <td>177.11</td>\n",
       "      <td>506.0</td>\n",
       "    </tr>\n",
       "  </tbody>\n",
       "</table>\n",
       "</div>"
      ],
      "text/plain": [
       "    so2   no2    rspm    spm\n",
       "0   8.6  16.2  116.32  323.0\n",
       "1   6.5   9.3  220.54  488.0\n",
       "2  25.8  10.4  248.19  487.0\n",
       "3   0.5   2.8  189.01  528.0\n",
       "4   2.5  12.8  177.11  506.0"
      ]
     },
     "execution_count": 58,
     "metadata": {},
     "output_type": "execute_result"
    }
   ],
   "source": [
    "#Random Forest\n",
    "from missingpy import MissForest\n",
    "ind = 0\n",
    "ds = df[df['state']==states[ind]]\n",
    "# ds.head()\n",
    "ds.drop(columns=['state'], inplace=True)\n",
    "# ds.isnull().sum()\n",
    "\n",
    "imputer = MissForest()\n",
    "Random_forest = imputer.fit_transform(ds)\n",
    "Random_forest = pd.DataFrame(Random_forest)\n",
    "Random_forest.columns=ds.columns\n",
    "Random_forest.head()"
   ]
  },
  {
   "cell_type": "code",
   "execution_count": 59,
   "metadata": {},
   "outputs": [],
   "source": [
    "AQI_cal(Random_forest)"
   ]
  },
  {
   "cell_type": "code",
   "execution_count": 60,
   "metadata": {},
   "outputs": [],
   "source": [
    "Random_forest.to_csv(states[ind] + '_RF.csv')"
   ]
  },
  {
   "cell_type": "code",
   "execution_count": 64,
   "metadata": {},
   "outputs": [],
   "source": [
    "# Linear Interpolation\n",
    "ind = 0\n",
    "ds = df[df['state']==states[ind]]\n",
    "# ds.head()\n",
    "ds.drop(columns=['state'], inplace=True)\n",
    "# ds.isnull().sum()\n",
    "\n",
    "LI_res=ds.interpolate(method ='linear', limit_direction ='both') \n",
    "LI_res = pd.DataFrame(LI_res)\n",
    "LI_res.columns=ds.columns\n",
    "AQI_cal(LI_res)\n",
    "LI_res.to_csv(states[ind]+\"LI.csv\")"
   ]
  },
  {
   "cell_type": "code",
   "execution_count": 67,
   "metadata": {},
   "outputs": [],
   "source": [
    "#EM\n",
    "import impyute as impy\n",
    "ind = 0\n",
    "ds = df[df['state']==states[ind]]\n",
    "new_ds = ds[[\"so2\", \"no2\",\"rspm\",\"spm\"]].values\n",
    "# ds.head()\n",
    "ds.drop(columns=['state'], inplace=True)\n",
    "X = ds.iloc[:,:]\n",
    "# ds.isnull().sum()\n",
    "\n",
    "EM = impy.imputation.cs.em(new_ds, loops=50)\n",
    "EM= pd.DataFrame(EM)\n",
    "EM.columns=ds.columns\n",
    "AQI_cal(EM)\n",
    "EM.to_csv(states[ind]+\"EM.csv\")"
   ]
  },
  {
   "cell_type": "code",
   "execution_count": 144,
   "metadata": {},
   "outputs": [
    {
     "data": {
      "text/plain": [
       "so2     0\n",
       "no2     0\n",
       "rspm    0\n",
       "spm     0\n",
       "dtype: int64"
      ]
     },
     "execution_count": 144,
     "metadata": {},
     "output_type": "execute_result"
    }
   ],
   "source": [
    "EM.isna().sum()"
   ]
  },
  {
   "cell_type": "code",
   "execution_count": null,
   "metadata": {},
   "outputs": [],
   "source": []
  },
  {
   "cell_type": "code",
   "execution_count": 145,
   "metadata": {},
   "outputs": [
    {
     "data": {
      "text/plain": [
       "(3415, 4)"
      ]
     },
     "execution_count": 145,
     "metadata": {},
     "output_type": "execute_result"
    }
   ],
   "source": [
    "EM.shape"
   ]
  },
  {
   "cell_type": "code",
   "execution_count": 146,
   "metadata": {},
   "outputs": [
    {
     "data": {
      "text/plain": [
       "(3415, 4)"
      ]
     },
     "execution_count": 146,
     "metadata": {},
     "output_type": "execute_result"
    }
   ],
   "source": [
    "ds.shape"
   ]
  },
  {
   "cell_type": "code",
   "execution_count": 163,
   "metadata": {},
   "outputs": [],
   "source": [
    "#fitting\n",
    "from sklearn.neighbors import KNeighborsClassifier as knn\n",
    "classifier=knn(n_neighbors=5)\n"
   ]
  },
  {
   "cell_type": "code",
   "execution_count": 164,
   "metadata": {},
   "outputs": [],
   "source": [
    "Haryana_knn = pd.read_csv(\"Haryana_knn.csv\")\n",
    "Haryana_MICE = pd.read_csv(\"Haryana_MICE.csv\")\n",
    "Haryana_median = pd.read_csv(\"Haryana_median.csv\")"
   ]
  },
  {
   "cell_type": "code",
   "execution_count": 165,
   "metadata": {},
   "outputs": [],
   "source": [
    "withoutNull= pd.read_csv(\"withoutNull.csv\")"
   ]
  },
  {
   "cell_type": "code",
   "execution_count": 166,
   "metadata": {},
   "outputs": [
    {
     "data": {
      "text/html": [
       "<div>\n",
       "<style scoped>\n",
       "    .dataframe tbody tr th:only-of-type {\n",
       "        vertical-align: middle;\n",
       "    }\n",
       "\n",
       "    .dataframe tbody tr th {\n",
       "        vertical-align: top;\n",
       "    }\n",
       "\n",
       "    .dataframe thead th {\n",
       "        text-align: right;\n",
       "    }\n",
       "</style>\n",
       "<table border=\"1\" class=\"dataframe\">\n",
       "  <thead>\n",
       "    <tr style=\"text-align: right;\">\n",
       "      <th></th>\n",
       "      <th>Unnamed: 0</th>\n",
       "      <th>state</th>\n",
       "      <th>so2</th>\n",
       "      <th>no2</th>\n",
       "      <th>rspm</th>\n",
       "      <th>spm</th>\n",
       "      <th>SOi</th>\n",
       "      <th>NOi</th>\n",
       "      <th>RSPMi</th>\n",
       "      <th>SPMi</th>\n",
       "      <th>AQI</th>\n",
       "      <th>AQI_Range</th>\n",
       "    </tr>\n",
       "  </thead>\n",
       "  <tbody>\n",
       "    <tr>\n",
       "      <th>0</th>\n",
       "      <td>0</td>\n",
       "      <td>Delhi</td>\n",
       "      <td>11.0</td>\n",
       "      <td>39.0</td>\n",
       "      <td>184.0</td>\n",
       "      <td>405.0</td>\n",
       "      <td>13.75</td>\n",
       "      <td>48.75</td>\n",
       "      <td>217.417085</td>\n",
       "      <td>368.75</td>\n",
       "      <td>368.75</td>\n",
       "      <td>Very unhealthy</td>\n",
       "    </tr>\n",
       "    <tr>\n",
       "      <th>1</th>\n",
       "      <td>1</td>\n",
       "      <td>Delhi</td>\n",
       "      <td>12.0</td>\n",
       "      <td>42.0</td>\n",
       "      <td>190.0</td>\n",
       "      <td>429.0</td>\n",
       "      <td>15.00</td>\n",
       "      <td>52.50</td>\n",
       "      <td>220.402010</td>\n",
       "      <td>398.75</td>\n",
       "      <td>398.75</td>\n",
       "      <td>Very unhealthy</td>\n",
       "    </tr>\n",
       "    <tr>\n",
       "      <th>2</th>\n",
       "      <td>2</td>\n",
       "      <td>Delhi</td>\n",
       "      <td>14.0</td>\n",
       "      <td>41.0</td>\n",
       "      <td>187.0</td>\n",
       "      <td>304.0</td>\n",
       "      <td>17.50</td>\n",
       "      <td>51.25</td>\n",
       "      <td>218.909548</td>\n",
       "      <td>254.00</td>\n",
       "      <td>254.00</td>\n",
       "      <td>Unhealthy</td>\n",
       "    </tr>\n",
       "    <tr>\n",
       "      <th>3</th>\n",
       "      <td>3</td>\n",
       "      <td>Delhi</td>\n",
       "      <td>13.0</td>\n",
       "      <td>39.0</td>\n",
       "      <td>192.0</td>\n",
       "      <td>323.0</td>\n",
       "      <td>16.25</td>\n",
       "      <td>48.75</td>\n",
       "      <td>221.396985</td>\n",
       "      <td>273.00</td>\n",
       "      <td>273.00</td>\n",
       "      <td>Unhealthy</td>\n",
       "    </tr>\n",
       "    <tr>\n",
       "      <th>4</th>\n",
       "      <td>4</td>\n",
       "      <td>Delhi</td>\n",
       "      <td>12.0</td>\n",
       "      <td>36.0</td>\n",
       "      <td>170.0</td>\n",
       "      <td>325.0</td>\n",
       "      <td>15.00</td>\n",
       "      <td>45.00</td>\n",
       "      <td>210.452261</td>\n",
       "      <td>275.00</td>\n",
       "      <td>275.00</td>\n",
       "      <td>Unhealthy</td>\n",
       "    </tr>\n",
       "  </tbody>\n",
       "</table>\n",
       "</div>"
      ],
      "text/plain": [
       "   Unnamed: 0  state   so2   no2   rspm    spm    SOi    NOi       RSPMi  \\\n",
       "0           0  Delhi  11.0  39.0  184.0  405.0  13.75  48.75  217.417085   \n",
       "1           1  Delhi  12.0  42.0  190.0  429.0  15.00  52.50  220.402010   \n",
       "2           2  Delhi  14.0  41.0  187.0  304.0  17.50  51.25  218.909548   \n",
       "3           3  Delhi  13.0  39.0  192.0  323.0  16.25  48.75  221.396985   \n",
       "4           4  Delhi  12.0  36.0  170.0  325.0  15.00  45.00  210.452261   \n",
       "\n",
       "     SPMi     AQI       AQI_Range  \n",
       "0  368.75  368.75  Very unhealthy  \n",
       "1  398.75  398.75  Very unhealthy  \n",
       "2  254.00  254.00       Unhealthy  \n",
       "3  273.00  273.00       Unhealthy  \n",
       "4  275.00  275.00       Unhealthy  "
      ]
     },
     "execution_count": 166,
     "metadata": {},
     "output_type": "execute_result"
    }
   ],
   "source": [
    "withoutNull.head()"
   ]
  },
  {
   "cell_type": "code",
   "execution_count": 167,
   "metadata": {},
   "outputs": [],
   "source": [
    "X = withoutNull[['so2','no2','rspm','spm']]\n",
    "y = withoutNull['AQI_Range']"
   ]
  },
  {
   "cell_type": "code",
   "execution_count": null,
   "metadata": {},
   "outputs": [],
   "source": []
  },
  {
   "cell_type": "code",
   "execution_count": null,
   "metadata": {},
   "outputs": [],
   "source": []
  },
  {
   "cell_type": "code",
   "execution_count": 168,
   "metadata": {},
   "outputs": [
    {
     "data": {
      "text/plain": [
       "KNeighborsClassifier(algorithm='auto', leaf_size=30, metric='minkowski',\n",
       "                     metric_params=None, n_jobs=None, n_neighbors=5, p=2,\n",
       "                     weights='uniform')"
      ]
     },
     "execution_count": 168,
     "metadata": {},
     "output_type": "execute_result"
    }
   ],
   "source": [
    "classifier.fit(X,y)"
   ]
  },
  {
   "cell_type": "code",
   "execution_count": 169,
   "metadata": {},
   "outputs": [
    {
     "data": {
      "text/html": [
       "<div>\n",
       "<style scoped>\n",
       "    .dataframe tbody tr th:only-of-type {\n",
       "        vertical-align: middle;\n",
       "    }\n",
       "\n",
       "    .dataframe tbody tr th {\n",
       "        vertical-align: top;\n",
       "    }\n",
       "\n",
       "    .dataframe thead th {\n",
       "        text-align: right;\n",
       "    }\n",
       "</style>\n",
       "<table border=\"1\" class=\"dataframe\">\n",
       "  <thead>\n",
       "    <tr style=\"text-align: right;\">\n",
       "      <th></th>\n",
       "      <th>Unnamed: 0</th>\n",
       "      <th>so2</th>\n",
       "      <th>no2</th>\n",
       "      <th>rspm</th>\n",
       "      <th>spm</th>\n",
       "    </tr>\n",
       "  </thead>\n",
       "  <tbody>\n",
       "    <tr>\n",
       "      <th>0</th>\n",
       "      <td>0</td>\n",
       "      <td>43.2</td>\n",
       "      <td>24.100000</td>\n",
       "      <td>73.356759</td>\n",
       "      <td>330.966334</td>\n",
       "    </tr>\n",
       "    <tr>\n",
       "      <th>1</th>\n",
       "      <td>1</td>\n",
       "      <td>41.8</td>\n",
       "      <td>24.000000</td>\n",
       "      <td>78.357400</td>\n",
       "      <td>362.720456</td>\n",
       "    </tr>\n",
       "    <tr>\n",
       "      <th>2</th>\n",
       "      <td>2</td>\n",
       "      <td>45.7</td>\n",
       "      <td>24.400000</td>\n",
       "      <td>84.000045</td>\n",
       "      <td>228.000000</td>\n",
       "    </tr>\n",
       "    <tr>\n",
       "      <th>3</th>\n",
       "      <td>3</td>\n",
       "      <td>42.8</td>\n",
       "      <td>22.000000</td>\n",
       "      <td>78.648075</td>\n",
       "      <td>364.839576</td>\n",
       "    </tr>\n",
       "    <tr>\n",
       "      <th>4</th>\n",
       "      <td>4</td>\n",
       "      <td>46.8</td>\n",
       "      <td>32.535293</td>\n",
       "      <td>262.309674</td>\n",
       "      <td>279.876996</td>\n",
       "    </tr>\n",
       "  </tbody>\n",
       "</table>\n",
       "</div>"
      ],
      "text/plain": [
       "   Unnamed: 0   so2        no2        rspm         spm\n",
       "0           0  43.2  24.100000   73.356759  330.966334\n",
       "1           1  41.8  24.000000   78.357400  362.720456\n",
       "2           2  45.7  24.400000   84.000045  228.000000\n",
       "3           3  42.8  22.000000   78.648075  364.839576\n",
       "4           4  46.8  32.535293  262.309674  279.876996"
      ]
     },
     "execution_count": 169,
     "metadata": {},
     "output_type": "execute_result"
    }
   ],
   "source": [
    "Haryana_knn.head()"
   ]
  },
  {
   "cell_type": "code",
   "execution_count": 170,
   "metadata": {},
   "outputs": [
    {
     "data": {
      "text/html": [
       "<div>\n",
       "<style scoped>\n",
       "    .dataframe tbody tr th:only-of-type {\n",
       "        vertical-align: middle;\n",
       "    }\n",
       "\n",
       "    .dataframe tbody tr th {\n",
       "        vertical-align: top;\n",
       "    }\n",
       "\n",
       "    .dataframe thead th {\n",
       "        text-align: right;\n",
       "    }\n",
       "</style>\n",
       "<table border=\"1\" class=\"dataframe\">\n",
       "  <thead>\n",
       "    <tr style=\"text-align: right;\">\n",
       "      <th></th>\n",
       "      <th>Unnamed: 0</th>\n",
       "      <th>so2</th>\n",
       "      <th>no2</th>\n",
       "      <th>rspm</th>\n",
       "      <th>spm</th>\n",
       "      <th>SOi</th>\n",
       "      <th>NOi</th>\n",
       "      <th>RSPMi</th>\n",
       "      <th>SPMi</th>\n",
       "      <th>AQI</th>\n",
       "      <th>AQI_Range</th>\n",
       "    </tr>\n",
       "  </thead>\n",
       "  <tbody>\n",
       "    <tr>\n",
       "      <th>0</th>\n",
       "      <td>0</td>\n",
       "      <td>43.2</td>\n",
       "      <td>24.10</td>\n",
       "      <td>149.165</td>\n",
       "      <td>261.0</td>\n",
       "      <td>54.000</td>\n",
       "      <td>30.1250</td>\n",
       "      <td>198.312959</td>\n",
       "      <td>211.000000</td>\n",
       "      <td>211.000000</td>\n",
       "      <td>Unhealthy</td>\n",
       "    </tr>\n",
       "    <tr>\n",
       "      <th>1</th>\n",
       "      <td>1</td>\n",
       "      <td>41.8</td>\n",
       "      <td>24.00</td>\n",
       "      <td>149.165</td>\n",
       "      <td>261.0</td>\n",
       "      <td>52.250</td>\n",
       "      <td>30.0000</td>\n",
       "      <td>198.312959</td>\n",
       "      <td>211.000000</td>\n",
       "      <td>211.000000</td>\n",
       "      <td>Unhealthy</td>\n",
       "    </tr>\n",
       "    <tr>\n",
       "      <th>2</th>\n",
       "      <td>2</td>\n",
       "      <td>45.7</td>\n",
       "      <td>24.40</td>\n",
       "      <td>149.165</td>\n",
       "      <td>228.0</td>\n",
       "      <td>57.125</td>\n",
       "      <td>30.5000</td>\n",
       "      <td>198.312959</td>\n",
       "      <td>185.333333</td>\n",
       "      <td>198.312959</td>\n",
       "      <td>Poor</td>\n",
       "    </tr>\n",
       "    <tr>\n",
       "      <th>3</th>\n",
       "      <td>3</td>\n",
       "      <td>42.8</td>\n",
       "      <td>22.00</td>\n",
       "      <td>149.165</td>\n",
       "      <td>261.0</td>\n",
       "      <td>53.500</td>\n",
       "      <td>27.5000</td>\n",
       "      <td>198.312959</td>\n",
       "      <td>211.000000</td>\n",
       "      <td>211.000000</td>\n",
       "      <td>Unhealthy</td>\n",
       "    </tr>\n",
       "    <tr>\n",
       "      <th>4</th>\n",
       "      <td>4</td>\n",
       "      <td>46.8</td>\n",
       "      <td>21.15</td>\n",
       "      <td>149.165</td>\n",
       "      <td>261.0</td>\n",
       "      <td>58.500</td>\n",
       "      <td>26.4375</td>\n",
       "      <td>198.312959</td>\n",
       "      <td>211.000000</td>\n",
       "      <td>211.000000</td>\n",
       "      <td>Unhealthy</td>\n",
       "    </tr>\n",
       "  </tbody>\n",
       "</table>\n",
       "</div>"
      ],
      "text/plain": [
       "   Unnamed: 0   so2    no2     rspm    spm     SOi      NOi       RSPMi  \\\n",
       "0           0  43.2  24.10  149.165  261.0  54.000  30.1250  198.312959   \n",
       "1           1  41.8  24.00  149.165  261.0  52.250  30.0000  198.312959   \n",
       "2           2  45.7  24.40  149.165  228.0  57.125  30.5000  198.312959   \n",
       "3           3  42.8  22.00  149.165  261.0  53.500  27.5000  198.312959   \n",
       "4           4  46.8  21.15  149.165  261.0  58.500  26.4375  198.312959   \n",
       "\n",
       "         SPMi         AQI  AQI_Range  \n",
       "0  211.000000  211.000000  Unhealthy  \n",
       "1  211.000000  211.000000  Unhealthy  \n",
       "2  185.333333  198.312959       Poor  \n",
       "3  211.000000  211.000000  Unhealthy  \n",
       "4  211.000000  211.000000  Unhealthy  "
      ]
     },
     "execution_count": 170,
     "metadata": {},
     "output_type": "execute_result"
    }
   ],
   "source": [
    "AQI_cal(Haryana_knn)\n",
    "AQI_cal(Haryana_MICE)\n",
    "AQI_cal(Haryana_median)\n",
    "Haryana_median.head()"
   ]
  },
  {
   "cell_type": "code",
   "execution_count": 171,
   "metadata": {},
   "outputs": [],
   "source": [
    "X1=Haryana_knn.iloc[:,1:5]\n",
    "X2=Haryana_MICE.iloc[:,1:5]\n",
    "X3=Haryana_median.iloc[:,1:5]\n",
    "y1=Haryana_knn.iloc[:,10]\n",
    "y2=Haryana_MICE.iloc[:,10]\n",
    "y3=Haryana_median.iloc[:,10]"
   ]
  },
  {
   "cell_type": "code",
   "execution_count": 172,
   "metadata": {},
   "outputs": [],
   "source": [
    "p1=classifier.predict(X1)\n",
    "p2=classifier.predict(X2)\n",
    "p3=classifier.predict(X3)"
   ]
  },
  {
   "cell_type": "code",
   "execution_count": 173,
   "metadata": {},
   "outputs": [],
   "source": [
    "from sklearn.metrics import accuracy_score\n",
    "from sklearn.metrics import precision_score\n",
    "from sklearn.metrics import recall_score\n",
    "from sklearn.metrics import f1_score\n",
    "from sklearn.metrics import roc_auc_score"
   ]
  },
  {
   "cell_type": "code",
   "execution_count": 174,
   "metadata": {},
   "outputs": [],
   "source": [
    "from sklearn.metrics import confusion_matrix\n",
    "cm=confusion_matrix(y1,p1)"
   ]
  },
  {
   "cell_type": "code",
   "execution_count": 175,
   "metadata": {},
   "outputs": [
    {
     "name": "stdout",
     "output_type": "stream",
     "text": [
      "MICE\n",
      "Accuracy is 97.1303%\n",
      "\\Precision is 97.1565%\n",
      "\\Recall is 97.1303%\n",
      "\\F1 Score is 0.9712\n"
     ]
    }
   ],
   "source": [
    "actual = y1\n",
    "pred = p1\n",
    "accuracy = accuracy_score(actual, pred) * 100\n",
    "precision = precision_score(actual, pred,average='weighted') * 100\n",
    "recall = recall_score(actual, pred,average='weighted') * 100\n",
    "f1 = f1_score(actual, pred,average='weighted')\n",
    "print ('MICE\\nAccuracy is {:.4f}%\\n\\Precision is {:.4f}%\\n\\Recall is {:.4f}%\\n\\F1 Score is {:.4f}'.format(accuracy, precision, recall, f1))"
   ]
  },
  {
   "cell_type": "code",
   "execution_count": 176,
   "metadata": {},
   "outputs": [
    {
     "name": "stdout",
     "output_type": "stream",
     "text": [
      "Median\n",
      "Accuracy is 98.1552%\n",
      "\\Precision is 98.1574%\n",
      "\\Recall is 98.1552%\n",
      "\\F1 Score is 0.9815\n"
     ]
    }
   ],
   "source": [
    "actual = y3\n",
    "pred = p3\n",
    "accuracy = accuracy_score(actual, pred) * 100\n",
    "precision = precision_score(actual, pred,average='weighted') * 100\n",
    "recall = recall_score(actual, pred,average='weighted') * 100\n",
    "f1 = f1_score(actual, pred,average='weighted')\n",
    "print ('Median\\nAccuracy is {:.4f}%\\n\\Precision is {:.4f}%\\n\\Recall is {:.4f}%\\n\\F1 Score is {:.4f}'.format(accuracy, precision, recall, f1))"
   ]
  },
  {
   "cell_type": "code",
   "execution_count": null,
   "metadata": {},
   "outputs": [],
   "source": []
  },
  {
   "cell_type": "code",
   "execution_count": null,
   "metadata": {},
   "outputs": [],
   "source": []
  },
  {
   "cell_type": "code",
   "execution_count": null,
   "metadata": {},
   "outputs": [],
   "source": []
  }
 ],
 "metadata": {
  "file_extension": ".py",
  "kernelspec": {
   "display_name": "Python 3",
   "language": "python",
   "name": "python3"
  },
  "language_info": {
   "codemirror_mode": {
    "name": "ipython",
    "version": 3
   },
   "file_extension": ".py",
   "mimetype": "text/x-python",
   "name": "python",
   "nbconvert_exporter": "python",
   "pygments_lexer": "ipython3",
   "version": "3.7.1"
  },
  "mimetype": "text/x-python",
  "name": "python",
  "npconvert_exporter": "python",
  "pygments_lexer": "ipython3",
  "version": 3
 },
 "nbformat": 4,
 "nbformat_minor": 2
}
